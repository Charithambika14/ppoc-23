{
  "cells": [
    {
      "cell_type": "markdown",
      "source": [
        "**Click on File and save a copy in Drive.**"
      ],
      "metadata": {
        "id": "OFlA9PqYHnLD"
      }
    },
    {
      "cell_type": "markdown",
      "metadata": {
        "id": "RB2d1J1f1CF7"
      },
      "source": [
        "### **Aim**  \n",
        "The motive of this assignment is to make predictions using **Linear Regression**. To make sure you truly understand how the underlying algorithm works, you are to implement it from scratch."
      ]
    },
    {
      "cell_type": "markdown",
      "metadata": {
        "id": "a_S80lf6H4Xv"
      },
      "source": [
        "### Generating the dataset  \n",
        "Run the cell below to create the dataset. It further splits the available data into training and testing. Please do not edit this cell.\n"
      ]
    },
    {
      "cell_type": "code",
      "execution_count": null,
      "metadata": {
        "id": "78SpFKp_57JZ",
        "colab": {
          "base_uri": "https://localhost:8080/"
        },
        "outputId": "b381a05a-ce48-47d5-d68b-818ae3e90eeb"
      },
      "outputs": [
        {
          "output_type": "stream",
          "name": "stdout",
          "text": [
            "Looking in indexes: https://pypi.org/simple, https://us-python.pkg.dev/colab-wheels/public/simple/\n",
            "Collecting sklearn\n",
            "  Downloading sklearn-0.0.post1.tar.gz (3.6 kB)\n",
            "  Preparing metadata (setup.py) ... \u001b[?25l\u001b[?25hdone\n",
            "Building wheels for collected packages: sklearn\n",
            "  Building wheel for sklearn (setup.py) ... \u001b[?25l\u001b[?25hdone\n",
            "  Created wheel for sklearn: filename=sklearn-0.0.post1-py3-none-any.whl size=2955 sha256=cddb18f0f41178b18d40d55186b988e7b3a6a540ce45004394f8bee32343e85c\n",
            "  Stored in directory: /root/.cache/pip/wheels/f8/e0/3d/9d0c2020c44a519b9f02ab4fa6d2a4a996c98d79ab2f569fa1\n",
            "Successfully built sklearn\n",
            "Installing collected packages: sklearn\n",
            "Successfully installed sklearn-0.0.post1\n"
          ]
        }
      ],
      "source": [
        "! pip install sklearn"
      ]
    },
    {
      "cell_type": "code",
      "execution_count": null,
      "metadata": {
        "id": "yX0zqXcHIQHP"
      },
      "outputs": [],
      "source": [
        "from sklearn import datasets\n",
        "from sklearn.model_selection import train_test_split\n",
        "\n",
        "# Generate the data\n",
        "X, y = datasets.make_regression(n_samples=100, n_features=1, noise=20, random_state=4)\n",
        "\n",
        "# Split the data\n",
        "X_train, X_test, y_train, y_test = train_test_split(X, y, test_size=0.2, random_state=1234)"
      ]
    },
    {
      "cell_type": "code",
      "source": [
        "y"
      ],
      "metadata": {
        "colab": {
          "base_uri": "https://localhost:8080/"
        },
        "id": "LMn6nJpNfgiG",
        "outputId": "007e4eab-2b87-458f-8c77-98a280bf4e9f"
      },
      "execution_count": null,
      "outputs": [
        {
          "output_type": "execute_result",
          "data": {
            "text/plain": [
              "array([-126.24922409,   50.92876904,   63.15463302,    6.05472009,\n",
              "         -5.72954025,   -2.75191769,   58.70355923,   53.81362958,\n",
              "        -95.34105851,   24.64812471,  -59.41697406,  -73.42349619,\n",
              "       -104.16266749,   31.80766772,  171.15350154,  -67.75196497,\n",
              "        141.46769811,  -24.36756973,   -2.11240097,  -32.59583109,\n",
              "        -29.41505819,  -37.87145989, -101.89829601,   46.41287784,\n",
              "       -181.34840044,  -31.77399504,   24.13154879,  163.94385144,\n",
              "         10.77367111,   37.35891532,    0.98036703, -120.88573188,\n",
              "        138.19938797,    9.20267903,  -16.2068899 ,   33.21708479,\n",
              "        -45.61698488,   -1.77758908, -105.56283971,    5.26394625,\n",
              "         89.5978923 ,  146.10300439,  -77.78704394,   -3.80893607,\n",
              "         60.81195812,  -97.2027103 ,   -1.15989334,  -43.88245964,\n",
              "         15.74278405,  -24.27446551,  -90.60148118,  -19.07314539,\n",
              "       -101.79001521,  -56.55140067,   52.1696979 , -158.28468928,\n",
              "         64.53968736,   84.52102913,   66.43434451,   36.86598297,\n",
              "         37.43779494,  -82.91713341,  -21.4183161 ,   -5.54348338,\n",
              "         59.88451573,    8.3784894 ,  -17.17634894, -160.50895428,\n",
              "       -100.73717846,   80.30335894,   69.64956653,   28.14443518,\n",
              "          9.7630474 ,   41.12497399,  176.92831393,    9.55981705,\n",
              "         -4.40463276,  -24.03585202,   19.1701073 ,  102.48327018,\n",
              "        101.52088195,  -58.51318402,   17.68768961,   63.05366753,\n",
              "       -102.36728191,   -1.65856494,   64.66264562,  -44.1299115 ,\n",
              "        117.99658351,   -4.63168152,  -76.71464299,  -67.2815873 ,\n",
              "        -12.46435171,   24.2973507 ,   31.43120085,   34.44108322,\n",
              "        -74.76820338,  160.99602125,   40.69772522,   33.43401768])"
            ]
          },
          "metadata": {},
          "execution_count": 7
        }
      ]
    },
    {
      "cell_type": "markdown",
      "metadata": {
        "id": "Zj4rrRXGJBXy"
      },
      "source": [
        "### Visualizing the data  \n",
        "Use `matplotlib` to visualize the given data."
      ]
    },
    {
      "cell_type": "code",
      "execution_count": null,
      "metadata": {
        "id": "zxfi8dkBJOUi",
        "colab": {
          "base_uri": "https://localhost:8080/",
          "height": 432
        },
        "outputId": "94333416-1984-450a-84b8-3cf4d1d66fe3"
      },
      "outputs": [
        {
          "output_type": "display_data",
          "data": {
            "text/plain": [
              "<Figure size 640x480 with 1 Axes>"
            ],
            "image/png": "[encoded data removed]"
          },
          "metadata": {}
        }
      ],
      "source": [
        "import matplotlib.pyplot as plt\n",
        "from sklearn.linear_model import LinearRegression\n",
        "from scipy import stats\n",
        "fig = plt.figure()\n",
        "ax1 = fig.add_subplot(111)\n",
        "ax1.scatter(X_train,y_train,s=20,c='b',label=\"training data\")\n",
        "ax1.scatter(X_test,y_test,s=20,c='g',label=\"testing data\")\n",
        "plt.legend(loc=\"upper left\")\n",
        "regressor = LinearRegression()\n",
        "regressor.fit(X,y)\n",
        "y_pred = regressor.predict(X)\n",
        "plt.plot(X,y_pred,color=\"red\",linewidth=\"0.3\")\n",
        "plt.show()\n"
      ]
    },
    {
      "cell_type": "markdown",
      "metadata": {
        "id": "r7vndSBAJceF"
      },
      "source": [
        "You should be able to see the linear relations between `y` and the features in vector `X`."
      ]
    },
    {
      "cell_type": "markdown",
      "metadata": {
        "id": "b4I9Z3epNvBM"
      },
      "source": [
        "### Gradient Descent Review  \n",
        "1. ####  Cost function\n",
        "Define the `cost function` to measure the difference between predictions and target outputs. Here, we are working with first degree polynomial, so derivatives are easy to calculate. ( Linear function `y = wx +b` )  \n",
        "\n",
        "$$Error = \\frac{1}{N}\\sum_{i=1}^N (y_i - \\overline{y}_i)^2 = \\frac{1}{N}\\sum_{i=1}^N (y_i - (xw+b))^2 $$  \n",
        "\n",
        "  where `N` is the number of samples  \n",
        "    \n",
        "\n",
        "\n",
        "2. #### Compute the derivative\n",
        "$$\\frac{\\delta Error}{\\delta w} = \\frac{2}{N}\\sum_{i=1}^N -x(y_i -(m  x +b ))  $$\n",
        "$$\\frac{\\delta Error}{\\delta b} = \\frac{2}{N}\\sum_{i=1}^N -(y_i -(m  x +b ))  $$\n",
        "3. <h4>Update current parameters</h4>\n",
        "$$ w:= w- learning\\_rate \\cdot \\frac{\\delta Error}{\\delta w}   $$\n",
        "$$ b:= b- learning\\_rate \\cdot \\frac{\\delta Error}{\\delta b}   $$\n",
        "4. <h4>Repeat until it fits good enough</h4>\n"
      ]
    },
    {
      "cell_type": "markdown",
      "metadata": {
        "id": "kBtUcOVnJu-I"
      },
      "source": [
        "### Model definition\n",
        "\n",
        "Complete the functions in the class below. Hints provided at appropriate places."
      ]
    },
    {
      "cell_type": "code",
      "execution_count": null,
      "metadata": {
        "id": "dGnFNPJx3I28"
      },
      "outputs": [],
      "source": [
        "import numpy as np\n",
        "\n",
        "class LinearRegression:\n",
        "\n",
        "    # The __init__ is called when we make any object of our class. Here, you are to specify the default values for\n",
        "    # Learning Rate, Number of Iterations, Weights and Biases. It doesn't return anything.\n",
        "    # Hint: Google what a `self pointer` is and figure out how it can be used here.\n",
        "    def __init__(self, learning_rate=0.001, n_iters=1000):\n",
        "        # Your code here\n",
        "        self.current_W = 0.1\n",
        "        self.current_b = 0.01\n",
        "        self.learning_rate = 0.1\n",
        "        self.n_iters = 1000\n",
        "\n",
        "    # The following function would be the heart of the model. This is where the training would happen.\n",
        "    # You're supposed to iterate and keep on updating the weights and biases according to the steps of Gradient Descent.\n",
        "    def fit(self, X, y):\n",
        "        # Gradient Descent code goes here\n",
        "        n_iters = 1000\n",
        "        learning_rate = 0.001\n",
        "        n = float(len(X))\n",
        "        costs = []\n",
        "        weights = []\n",
        "        previous_cost = None\n",
        "        tol = 1e-6\n",
        "        X = X.astype(float)\n",
        "\n",
        "        for i in range(n_iters):\n",
        "                 a = np.multiply(np.array(X),self.current_W)\n",
        "                 y_predicted = a + self.current_b\n",
        "                 current_cost = np.sum((y-y_predicted)**2) / len(y)\n",
        "                 if previous_cost and abs(previous_cost-current_cost) <= tol:\n",
        "                   break\n",
        "                 previous_cost = current_cost\n",
        "                 costs.append(current_cost)\n",
        "                 weights.append(self.current_W)\n",
        "                 weight_derivative = -(2/n) * np.sum(np.multiply(X,(y - y_predicted)))\n",
        "                 bias_derivative = -(2/n) * np.sum(y - y_predicted)\n",
        "                 self.current_W = self.current_W - (learning_rate * weight_derivative)\n",
        "                 self.current_b = self.current_b - (learning_rate * bias_derivative)\n",
        "\n",
        "\n",
        "    # This function will be called after our model has been trained and we are predicting on unseen data\n",
        "    # What is our prediction? Just return that\n",
        "    def predict(self, X=[],y=[]):\n",
        "        y = np.array(y)\n",
        "        d = np.multiply(np.array(X),self.current_W)\n",
        "        Y_pred = d + self.current_b\n",
        "        h = Y_pred\n",
        "        n = h.sum(axis=1)\n",
        "        return  n\n"
      ]
    },
    {
      "cell_type": "markdown",
      "metadata": {
        "id": "EvyInkTKPn7W"
      },
      "source": [
        "### Initializing, Training & Predictions"
      ]
    },
    {
      "cell_type": "code",
      "execution_count": null,
      "metadata": {
        "id": "nvItUpAkHTiv",
        "colab": {
          "base_uri": "https://localhost:8080/"
        },
        "outputId": "ba856af4-1c28-4ab1-b32e-0f09c2ba99e9"
      },
      "outputs": [
        {
          "output_type": "execute_result",
          "data": {
            "text/plain": [
              "array([1.19528812, 1.1952873 , 1.19530162, 1.19533524, 1.19529412,\n",
              "       1.19536834, 1.19525891, 1.19528072, 1.19534528, 1.19528256,\n",
              "       1.19528297, 1.19531396, 1.19525566, 1.19529061, 1.195331  ,\n",
              "       1.19527435, 1.19523605, 1.19531256, 1.19531699, 1.19526035,\n",
              "       1.19526639, 1.19529287, 1.19531229, 1.19531391, 1.19523568,\n",
              "       1.19530947, 1.19532677, 1.19523619, 1.19535918, 1.19534179,\n",
              "       1.19522396, 1.19526919, 1.19525723, 1.19520884, 1.19529797,\n",
              "       1.19522053, 1.19527024, 1.19528299, 1.19523888, 1.1953475 ,\n",
              "       1.19523364, 1.19527763, 1.19524555, 1.19527595, 1.19528289,\n",
              "       1.19528183, 1.19529776, 1.19537828, 1.19528322, 1.1952189 ,\n",
              "       1.19524402, 1.19531855, 1.19528249, 1.1952282 , 1.19523741,\n",
              "       1.19518854, 1.19536302, 1.19526467, 1.19527421, 1.19529412,\n",
              "       1.19525553, 1.19530536, 1.19528736, 1.19531195, 1.19531776,\n",
              "       1.1953083 , 1.195242  , 1.19528373, 1.19527894, 1.19529274,\n",
              "       1.19530237, 1.19530457, 1.1952675 , 1.19525235, 1.19518769,\n",
              "       1.19528307, 1.19525567, 1.19524334, 1.19531234, 1.19525052])"
            ]
          },
          "metadata": {},
          "execution_count": 51
        }
      ],
      "source": [
        "# Now, we make an object of our custom class.\n",
        "regress = LinearRegression()\n",
        "# Call the fit method on the object to train (pass appropriate part of dataset)\n",
        "regress.__init__\n",
        "regress.fit(X_train,y_train)\n",
        "regress.predict(X_train)\n",
        "\n",
        "# Now, let's see our what our model predicts\n",
        "# pass appropriate part of dataset\n"
      ]
    },
    {
      "cell_type": "markdown",
      "metadata": {
        "id": "tzK6cq8eRD4Q"
      },
      "source": [
        "### Evaluate the model   \n",
        "\n",
        "Return [Mean Squared Error](https://en.wikipedia.org/wiki/Mean_squared_error) & [R2 Score](https://www.ncl.ac.uk/webtemplate/ask-assets/external/maths-resources/statistics/regression-and-correlation/coefficient-of-determination-r-squared.html#:~:text=%C2%AFy) from the functions below."
      ]
    },
    {
      "cell_type": "code",
      "execution_count": null,
      "metadata": {
        "id": "WqkrvDzcRF5m",
        "colab": {
          "base_uri": "https://localhost:8080/"
        },
        "outputId": "6d511254-0e9c-4098-9dc1-68e7061074fd"
      },
      "outputs": [
        {
          "output_type": "stream",
          "name": "stdout",
          "text": [
            "MSE: 290.2612417801377\n",
            "Accuracy: 0.9482150605235175\n"
          ]
        }
      ],
      "source": [
        "def mean_squared_error(y_true, y_pred):\n",
        "    mse = np.sum((y_true - y_pred)**2)/len(y_true)\n",
        "    return mse\n",
        "\n",
        "def r2_score(y_true, y_pred):\n",
        "    y_mean = np.sum(y_true)/len(y_true)\n",
        "    r2_score = 1 - np.sum((y_true - y_pred)**2)/np.sum((y_true - y_mean)**2)\n",
        "    return r2_score\n",
        "\n",
        "y_pred = regress.predict(X)\n",
        "mse = mean_squared_error(y,y_pred)\n",
        "print(\"MSE:\", mse)\n",
        "\n",
        "accu =  r2_score(y,y_pred)\n",
        "print(\"Accuracy:\", accu)"
      ]
    },
    {
      "cell_type": "code",
      "source": [
        "import matplotlib.pyplot as plt\n",
        "from sklearn.linear_model import LinearRegression\n",
        "from scipy import stats\n",
        "fig = plt.figure()\n",
        "ax1 = fig.add_subplot(111)\n",
        "ax1.scatter(X_train,y_train,s=20,c='b',label=\"training data\")\n",
        "ax1.scatter(X_test,y_test,s=20,c='g',label=\"testing data\")\n",
        "plt.legend(loc=\"upper left\")\n",
        "regressor = LinearRegression()\n",
        "regressor.fit(X,y)\n",
        "y_pred = regressor.predict(X)\n",
        "plt.plot(X,y_pred,color=\"red\",linewidth=\"0.3\")\n",
        "plt.show()\n"
      ],
      "metadata": {
        "colab": {
          "base_uri": "https://localhost:8080/",
          "height": 432
        },
        "id": "n85vt6CnVJyz",
        "outputId": "09aa7ed6-9b55-40ca-e8dc-07efefb66fb8"
      },
      "execution_count": null,
      "outputs": [
        {
          "output_type": "display_data",
          "data": {
            "text/plain": [
              "<Figure size 640x480 with 1 Axes>"
            ],
            "image/png": "[encoded data removed]"
          },
          "metadata": {}
        }
      ]
    },
    {
      "cell_type": "markdown",
      "source": [
        "[Please click on this link to access subjective questions](https://docs.google.com/document/d/1ty9m1vUoPNh_WU8qATznTKukukkSwOlnLJazhBFmWO4/edit?usp=sharing)"
      ],
      "metadata": {
        "id": "2iX8lA3I9Kgy"
      }
    }
  ],
  "metadata": {
    "colab": {
      "provenance": []
    },
    "kernelspec": {
      "display_name": "Python 3",
      "name": "python3"
    },
    "language_info": {
      "codemirror_mode": {
        "name": "ipython",
        "version": 3
      },
      "file_extension": ".py",
      "mimetype": "text/x-python",
      "name": "python",
      "nbconvert_exporter": "python",
      "pygments_lexer": "ipython3",
      "version": "3.10.4"
    }
  },
  "nbformat": 4,
  "nbformat_minor": 0
}